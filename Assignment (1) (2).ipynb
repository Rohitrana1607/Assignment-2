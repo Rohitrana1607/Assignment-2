{
 "cells": [
  {
   "cell_type": "code",
   "execution_count": 1,
   "id": "3073c833-40bb-4cce-a961-6365b6ce0a2e",
   "metadata": {},
   "outputs": [],
   "source": [
    "Q1. Create one variable containing following type of data:\n",
    "(i) string\n",
    "(ii) list\n",
    "(iii) float\n",
    "(iv) tuple"
   ]
  },
  {
   "cell_type": "code",
   "execution_count": null,
   "id": "a0da4bda-bb83-43a2-8c81-3893b282fb0b",
   "metadata": {},
   "outputs": [],
   "source": [
    "a =\"rohit\""
   ]
  },
  {
   "cell_type": "code",
   "execution_count": 3,
   "id": "7aa0a8e9-153c-4bb7-acbf-0a1eee96b87e",
   "metadata": {},
   "outputs": [
    {
     "data": {
      "text/plain": [
       "str"
      ]
     },
     "execution_count": 3,
     "metadata": {},
     "output_type": "execute_result"
    }
   ],
   "source": [
    "type(a)"
   ]
  },
  {
   "cell_type": "code",
   "execution_count": 4,
   "id": "9816f0a1-e35e-4e7a-8f48-3a7318f61ec9",
   "metadata": {},
   "outputs": [],
   "source": [
    "c=[ 1,2,3, 1.23,\"rohit\",True]"
   ]
  },
  {
   "cell_type": "code",
   "execution_count": 5,
   "id": "9a2157b5-eed5-4aea-b924-3dc3f7a17d67",
   "metadata": {},
   "outputs": [
    {
     "data": {
      "text/plain": [
       "list"
      ]
     },
     "execution_count": 5,
     "metadata": {},
     "output_type": "execute_result"
    }
   ],
   "source": [
    "type(c)"
   ]
  },
  {
   "cell_type": "code",
   "execution_count": 6,
   "id": "799333ec-63bf-41f3-b5a0-60e74d8f8688",
   "metadata": {},
   "outputs": [],
   "source": [
    "Aman= 34.43"
   ]
  },
  {
   "cell_type": "code",
   "execution_count": 7,
   "id": "800066c1-dad7-45f2-948b-a74cf9d579d0",
   "metadata": {},
   "outputs": [
    {
     "data": {
      "text/plain": [
       "float"
      ]
     },
     "execution_count": 7,
     "metadata": {},
     "output_type": "execute_result"
    }
   ],
   "source": [
    "type(Aman)"
   ]
  },
  {
   "cell_type": "code",
   "execution_count": 8,
   "id": "f38f7e7c-1368-48ff-8784-a53b9a3b3369",
   "metadata": {},
   "outputs": [],
   "source": [
    "op= (1,2,34)"
   ]
  },
  {
   "cell_type": "code",
   "execution_count": 9,
   "id": "9da58095-3c09-4993-bf50-95ece8d1b350",
   "metadata": {},
   "outputs": [
    {
     "data": {
      "text/plain": [
       "tuple"
      ]
     },
     "execution_count": 9,
     "metadata": {},
     "output_type": "execute_result"
    }
   ],
   "source": [
    "type(op)"
   ]
  },
  {
   "cell_type": "code",
   "execution_count": null,
   "id": "53dcc34e-8675-4c6a-9d8c-3625060e3117",
   "metadata": {},
   "outputs": [],
   "source": [
    "Q2. Given are some following variables containing data:\n",
    "(i) var1 = ‘ ‘\n",
    "(ii) var2 = ‘[ DS , ML , Python]’\n",
    "(iii) var3 = [ ‘DS’ , ’ML’ , ‘Python’ ]\n",
    "(iv) var4 = 1.\n",
    "What will be the data type of the above given variable."
   ]
  },
  {
   "cell_type": "code",
   "execution_count": 7,
   "id": "364fdcde-d9d6-4772-b55c-9112f0045e78",
   "metadata": {},
   "outputs": [
    {
     "ename": "SyntaxError",
     "evalue": "invalid character '‘' (U+2018) (2481791703.py, line 1)",
     "output_type": "error",
     "traceback": [
      "\u001b[0;36m  Cell \u001b[0;32mIn[7], line 1\u001b[0;36m\u001b[0m\n\u001b[0;31m    var1 = ‘ ‘\u001b[0m\n\u001b[0m           ^\u001b[0m\n\u001b[0;31mSyntaxError\u001b[0m\u001b[0;31m:\u001b[0m invalid character '‘' (U+2018)\n"
     ]
    }
   ],
   "source": [
    "var1 = ‘ ‘"
   ]
  },
  {
   "cell_type": "code",
   "execution_count": 11,
   "id": "1a7c6c6e-fd4e-4fa4-85fa-0f6ea0ac7d95",
   "metadata": {},
   "outputs": [
    {
     "ename": "SyntaxError",
     "evalue": "invalid character '‘' (U+2018) (4236947624.py, line 1)",
     "output_type": "error",
     "traceback": [
      "\u001b[0;36m  Cell \u001b[0;32mIn[11], line 1\u001b[0;36m\u001b[0m\n\u001b[0;31m    var2 = ‘[ DS , ML , Python]’\u001b[0m\n\u001b[0m           ^\u001b[0m\n\u001b[0;31mSyntaxError\u001b[0m\u001b[0;31m:\u001b[0m invalid character '‘' (U+2018)\n"
     ]
    }
   ],
   "source": [
    "var2 = ‘[ DS , ML , Python]’"
   ]
  },
  {
   "cell_type": "code",
   "execution_count": null,
   "id": "2c1f6966-d8f0-4036-8066-aa061578a22f",
   "metadata": {},
   "outputs": [],
   "source": []
  },
  {
   "cell_type": "code",
   "execution_count": 12,
   "id": "aadd3f3b-013d-4afa-aa22-8648aff95509",
   "metadata": {},
   "outputs": [
    {
     "ename": "SyntaxError",
     "evalue": "invalid character '‘' (U+2018) (899486036.py, line 1)",
     "output_type": "error",
     "traceback": [
      "\u001b[0;36m  Cell \u001b[0;32mIn[12], line 1\u001b[0;36m\u001b[0m\n\u001b[0;31m    var3 = [ ‘DS’ , ’ML’ , ‘Python’ ]\u001b[0m\n\u001b[0m             ^\u001b[0m\n\u001b[0;31mSyntaxError\u001b[0m\u001b[0;31m:\u001b[0m invalid character '‘' (U+2018)\n"
     ]
    }
   ],
   "source": [
    "var3 = [ ‘DS’ , ’ML’ , ‘Python’ ]"
   ]
  },
  {
   "cell_type": "code",
   "execution_count": 13,
   "id": "6b56d899-373e-4486-8840-88e90b1c017b",
   "metadata": {},
   "outputs": [],
   "source": [
    "var4 = 1."
   ]
  },
  {
   "cell_type": "code",
   "execution_count": 14,
   "id": "fa192683-0cef-4a84-8b95-fcb720b8b7a2",
   "metadata": {},
   "outputs": [
    {
     "data": {
      "text/plain": [
       "float"
      ]
     },
     "execution_count": 14,
     "metadata": {},
     "output_type": "execute_result"
    }
   ],
   "source": [
    "type(var4)"
   ]
  },
  {
   "cell_type": "code",
   "execution_count": null,
   "id": "da532953-f0b2-4088-8647-ac1784b5fd69",
   "metadata": {},
   "outputs": [],
   "source": [
    "Q3. Explain the use of the following operators using an example:\n",
    "(i) /\n",
    "(ii) %\n",
    "(iii) //\n",
    "(iv) **"
   ]
  },
  {
   "cell_type": "code",
   "execution_count": null,
   "id": "eb02f959-0383-425a-839f-b5d7df005f08",
   "metadata": {},
   "outputs": [],
   "source": [
    "#/ is arithmitic operator and it is used to devide numbers"
   ]
  },
  {
   "cell_type": "code",
   "execution_count": 20,
   "id": "df9f6255-5275-4bf3-ab9f-2f3c4140ea50",
   "metadata": {},
   "outputs": [
    {
     "data": {
      "text/plain": [
       "8.0"
      ]
     },
     "execution_count": 20,
     "metadata": {},
     "output_type": "execute_result"
    }
   ],
   "source": [
    "24/3"
   ]
  },
  {
   "cell_type": "code",
   "execution_count": 15,
   "id": "82318dc7-e6ba-451c-974e-a93271513543",
   "metadata": {},
   "outputs": [],
   "source": [
    "#% is modulus operator is used to find remainder.\n"
   ]
  },
  {
   "cell_type": "code",
   "execution_count": 16,
   "id": "5924c050-f153-49a8-baf5-3f8b48dfb583",
   "metadata": {},
   "outputs": [
    {
     "name": "stdout",
     "output_type": "stream",
     "text": [
      "2\n"
     ]
    }
   ],
   "source": [
    "num1= 50\n",
    "num2= 4\n",
    "\n",
    "result= num1%num2\n",
    "print (result)\n",
    "\n"
   ]
  },
  {
   "cell_type": "code",
   "execution_count": null,
   "id": "6bc44b1e-00fc-497a-9177-fe1b123d3336",
   "metadata": {},
   "outputs": [],
   "source": [
    "#// is an arithmitic operator and it is floor devision and it removes all the numbers after decimal"
   ]
  },
  {
   "cell_type": "code",
   "execution_count": 27,
   "id": "311e5280-30d5-4d95-bab9-505a6b393670",
   "metadata": {},
   "outputs": [],
   "source": [
    "a= 9//2"
   ]
  },
  {
   "cell_type": "code",
   "execution_count": 28,
   "id": "fde25069-70aa-41ba-a6b5-ce185a321c81",
   "metadata": {},
   "outputs": [
    {
     "name": "stdout",
     "output_type": "stream",
     "text": [
      "4\n"
     ]
    }
   ],
   "source": [
    "print(a)"
   ]
  },
  {
   "cell_type": "code",
   "execution_count": null,
   "id": "ee2b4308-c179-4332-a004-bfacd515b4de",
   "metadata": {},
   "outputs": [],
   "source": [
    "#** it is arithmitic operator and is used to multiply for ex and it is known as exponential operator"
   ]
  },
  {
   "cell_type": "code",
   "execution_count": 1,
   "id": "64a2bf88-5d5d-4522-95b4-ff69792b772f",
   "metadata": {},
   "outputs": [
    {
     "data": {
      "text/plain": [
       "8"
      ]
     },
     "execution_count": 1,
     "metadata": {},
     "output_type": "execute_result"
    }
   ],
   "source": [
    "2**3\n"
   ]
  },
  {
   "cell_type": "code",
   "execution_count": 2,
   "id": "6522b433-f460-4a03-9e37-3874781891fb",
   "metadata": {},
   "outputs": [
    {
     "data": {
      "text/plain": [
       "81"
      ]
     },
     "execution_count": 2,
     "metadata": {},
     "output_type": "execute_result"
    }
   ],
   "source": [
    "3**4"
   ]
  },
  {
   "cell_type": "code",
   "execution_count": null,
   "id": "8a8e958b-0fec-4f0f-a92c-23a9b493ff79",
   "metadata": {},
   "outputs": [],
   "source": [
    "Q4. Create a list of length 10 of your choice containing multiple types of data. Using for loop print the\n",
    "element and its data type."
   ]
  },
  {
   "cell_type": "code",
   "execution_count": 7,
   "id": "75429594-35b1-442b-b5a1-c32338778f35",
   "metadata": {},
   "outputs": [
    {
     "name": "stdout",
     "output_type": "stream",
     "text": [
      "<class 'int'>\n",
      "<class 'int'>\n",
      "<class 'int'>\n",
      "<class 'str'>\n",
      "<class 'bool'>\n",
      "<class 'float'>\n",
      "<class 'int'>\n",
      "<class 'int'>\n",
      "<class 'str'>\n",
      "<class 'bool'>\n",
      "<class 'float'>\n",
      "<class 'str'>\n",
      "<class 'float'>\n"
     ]
    }
   ],
   "source": [
    "X=[1,2,3, \"Rohit Rana\", True, 34.43, 9,10, \" Kamal\", False, 23.45, \"Indar\", 34.56]\n",
    "for i in X:\n",
    "    print(type(i))"
   ]
  },
  {
   "cell_type": "code",
   "execution_count": null,
   "id": "d7ccd393-67b3-4293-8f94-549e00c10c28",
   "metadata": {},
   "outputs": [],
   "source": [
    "Q5. Using a while loop, verify if the number A is purely divisible by number B and if so then how many\n",
    "times it can be divisible."
   ]
  },
  {
   "cell_type": "code",
   "execution_count": null,
   "id": "d9a5acbb-8e82-4df3-bc93-6037db0e2522",
   "metadata": {},
   "outputs": [],
   "source": [
    "A=9\n",
    "B=3\n",
    "while (A>B):\n",
    "    print(A%B)\n",
    "if A%B==0:\n",
    "    print(A%B)\n",
    "\n",
    "    h= 2\n",
    "k=5\n",
    "while h<k:\n",
    "    print(h)\n",
    "    h= h+1\n",
    "    \n",
    "    #need assistance in this question as not able to solve please provide solution.\n",
    "    \n",
    "   \n",
    "    "
   ]
  },
  {
   "cell_type": "code",
   "execution_count": null,
   "id": "99e3acd9-d519-486e-ace3-859a5f5caf51",
   "metadata": {},
   "outputs": [],
   "source": [
    "Q6. Create a list containing 25 int type data. Using for loop and if-else condition print if the element is\n",
    "divisible by 3 or not."
   ]
  },
  {
   "cell_type": "code",
   "execution_count": 14,
   "id": "61f2aebf-c0d9-4b3d-8fdc-0460432a2988",
   "metadata": {},
   "outputs": [
    {
     "data": {
      "text/plain": [
       "[3,\n",
       " 4,\n",
       " 5,\n",
       " 6,\n",
       " 7,\n",
       " 8,\n",
       " 9,\n",
       " 10,\n",
       " 11,\n",
       " 12,\n",
       " 13,\n",
       " 14,\n",
       " 15,\n",
       " 16,\n",
       " 17,\n",
       " 18,\n",
       " 19,\n",
       " 20,\n",
       " 21,\n",
       " 22,\n",
       " 23,\n",
       " 24,\n",
       " 25,\n",
       " 26,\n",
       " 27,\n",
       " 28]"
      ]
     },
     "execution_count": 14,
     "metadata": {},
     "output_type": "execute_result"
    }
   ],
   "source": [
    "list(range(3, 29))\n"
   ]
  },
  {
   "cell_type": "code",
   "execution_count": 11,
   "id": "9bc660cb-1918-4f50-bb22-d5d5b25bca36",
   "metadata": {},
   "outputs": [
    {
     "name": "stdin",
     "output_type": "stream",
     "text": [
      "Enter lower range limit: 3\n",
      "Enter upper range limit: 29\n"
     ]
    },
    {
     "name": "stdout",
     "output_type": "stream",
     "text": [
      "3\n",
      "not divisible\n",
      "not divisible\n",
      "6\n",
      "not divisible\n",
      "not divisible\n",
      "9\n",
      "not divisible\n",
      "not divisible\n",
      "12\n",
      "not divisible\n",
      "not divisible\n",
      "15\n",
      "not divisible\n",
      "not divisible\n",
      "18\n",
      "not divisible\n",
      "not divisible\n",
      "21\n",
      "not divisible\n",
      "not divisible\n",
      "24\n",
      "not divisible\n",
      "not divisible\n",
      "27\n",
      "not divisible\n",
      "not divisible\n"
     ]
    }
   ],
   "source": [
    "lower = int(input(\"Enter lower range limit:\"))\n",
    "upper = int(input(\"Enter upper range limit:\"))\n",
    "for i in range(lower, upper+1):\n",
    "   if((i%3==0)):\n",
    "      print(i)\n",
    "   else:\n",
    "      print(\"not divisible\")\n",
    "      "
   ]
  },
  {
   "cell_type": "code",
   "execution_count": null,
   "id": "b41b0ba9-2abb-4e7f-aed6-f0d3dbc50a35",
   "metadata": {},
   "outputs": [],
   "source": [
    "Q7. What do you understand about mutable and immutable data types? Give examples for both showing\n",
    "this property."
   ]
  },
  {
   "cell_type": "code",
   "execution_count": 19,
   "id": "8c6d5b95-8bfd-48f2-b6b3-78627aadc88f",
   "metadata": {},
   "outputs": [],
   "source": [
    "#A mutable object can be changed after it is created for ex  List as we can change list after it created \n",
    "\n",
    "l=[ 1,2,3,4,5]\n",
    "l[2]\n",
    "l[2] =7"
   ]
  },
  {
   "cell_type": "code",
   "execution_count": 20,
   "id": "2a23e99c-3734-4571-957b-65d20065ff0e",
   "metadata": {},
   "outputs": [
    {
     "data": {
      "text/plain": [
       "[1, 2, 7, 4, 5]"
      ]
     },
     "execution_count": 20,
     "metadata": {},
     "output_type": "execute_result"
    }
   ],
   "source": [
    "l"
   ]
  },
  {
   "cell_type": "code",
   "execution_count": 23,
   "id": "2f8de131-16c1-419d-be89-b48eb9fe8824",
   "metadata": {},
   "outputs": [],
   "source": [
    "#As you can see above list can be change however immutable object cannot be changed after it is created Ex str\n",
    "\n",
    "D= (\"string\")"
   ]
  },
  {
   "cell_type": "code",
   "execution_count": 25,
   "id": "6a1fbe8b-da56-4a8a-8f67-c1ca110a22c9",
   "metadata": {},
   "outputs": [
    {
     "data": {
      "text/plain": [
       "'r'"
      ]
     },
     "execution_count": 25,
     "metadata": {},
     "output_type": "execute_result"
    }
   ],
   "source": [
    "D[2]"
   ]
  },
  {
   "cell_type": "code",
   "execution_count": 26,
   "id": "c164d80e-d2f6-4f94-8ba6-84098c8f884a",
   "metadata": {},
   "outputs": [
    {
     "ename": "NameError",
     "evalue": "name 'd' is not defined",
     "output_type": "error",
     "traceback": [
      "\u001b[0;31m---------------------------------------------------------------------------\u001b[0m",
      "\u001b[0;31mNameError\u001b[0m                                 Traceback (most recent call last)",
      "Cell \u001b[0;32mIn[26], line 1\u001b[0m\n\u001b[0;32m----> 1\u001b[0m D[\u001b[38;5;241m2\u001b[39m]\u001b[38;5;241m=\u001b[39m \u001b[43md\u001b[49m\n",
      "\u001b[0;31mNameError\u001b[0m: name 'd' is not defined"
     ]
    }
   ],
   "source": [
    "D[2]= d"
   ]
  },
  {
   "cell_type": "code",
   "execution_count": null,
   "id": "5c1eed42-e136-4d46-8ccd-32a1c62268cd",
   "metadata": {},
   "outputs": [],
   "source": [
    "#As you can see we can not change str as it immutable hence changes can not be make in immutable after its creation."
   ]
  }
 ],
 "metadata": {
  "kernelspec": {
   "display_name": "Python 3 (ipykernel)",
   "language": "python",
   "name": "python3"
  },
  "language_info": {
   "codemirror_mode": {
    "name": "ipython",
    "version": 3
   },
   "file_extension": ".py",
   "mimetype": "text/x-python",
   "name": "python",
   "nbconvert_exporter": "python",
   "pygments_lexer": "ipython3",
   "version": "3.10.8"
  }
 },
 "nbformat": 4,
 "nbformat_minor": 5
}
